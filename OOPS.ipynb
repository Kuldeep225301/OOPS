{
 "cells": [
  {
   "cell_type": "code",
   "execution_count": 1,
   "id": "e2660bb9-a377-4da5-88eb-ff0bd73946fa",
   "metadata": {
    "tags": []
   },
   "outputs": [],
   "source": [
    "a=1"
   ]
  },
  {
   "cell_type": "code",
   "execution_count": 2,
   "id": "23f2394c-1772-4cac-9c4f-5e54f6cc9d69",
   "metadata": {
    "tags": []
   },
   "outputs": [
    {
     "name": "stdout",
     "output_type": "stream",
     "text": [
      "<class 'int'>\n"
     ]
    }
   ],
   "source": [
    "print(type(a))"
   ]
  },
  {
   "cell_type": "code",
   "execution_count": 3,
   "id": "7d35a7c9-e708-499a-aad0-fd778233f4e4",
   "metadata": {
    "tags": []
   },
   "outputs": [
    {
     "name": "stdout",
     "output_type": "stream",
     "text": [
      "<class 'str'>\n"
     ]
    }
   ],
   "source": [
    "print((type(\"kuldeep\")))"
   ]
  },
  {
   "cell_type": "code",
   "execution_count": 4,
   "id": "1da072fb-f4a0-4fd9-b471-411ecf3e26d9",
   "metadata": {
    "tags": []
   },
   "outputs": [],
   "source": [
    "a = 3.14"
   ]
  },
  {
   "cell_type": "code",
   "execution_count": 5,
   "id": "e1de3f83-78c2-40ec-a1ed-4e0dba0678a4",
   "metadata": {
    "tags": []
   },
   "outputs": [
    {
     "name": "stdout",
     "output_type": "stream",
     "text": [
      "<class 'float'>\n"
     ]
    }
   ],
   "source": [
    "print(type(a))"
   ]
  },
  {
   "cell_type": "code",
   "execution_count": 6,
   "id": "a5f613d2-d6f5-4338-a945-c481dbe3c01f",
   "metadata": {
    "tags": []
   },
   "outputs": [],
   "source": [
    "class test:\n",
    "    pass"
   ]
  },
  {
   "cell_type": "code",
   "execution_count": 7,
   "id": "b3956ae6-2f8c-461c-8e55-864d2aa08214",
   "metadata": {
    "tags": []
   },
   "outputs": [],
   "source": [
    "a=test()"
   ]
  },
  {
   "cell_type": "code",
   "execution_count": 8,
   "id": "29ce3b13-2476-41e1-8408-9476acd75342",
   "metadata": {
    "tags": []
   },
   "outputs": [
    {
     "data": {
      "text/plain": [
       "__main__.test"
      ]
     },
     "execution_count": 8,
     "metadata": {},
     "output_type": "execute_result"
    }
   ],
   "source": [
    "type(a)"
   ]
  },
  {
   "cell_type": "code",
   "execution_count": 9,
   "id": "0ee7ebcd-9151-4aed-8041-ceddce8b615d",
   "metadata": {
    "tags": []
   },
   "outputs": [
    {
     "name": "stdout",
     "output_type": "stream",
     "text": [
      "<class '__main__.test'>\n"
     ]
    }
   ],
   "source": [
    "print(type(a))"
   ]
  },
  {
   "cell_type": "markdown",
   "id": "9514df74-1dc0-42d1-994a-b468152d79c0",
   "metadata": {},
   "source": [
    "class start"
   ]
  },
  {
   "cell_type": "code",
   "execution_count": 19,
   "id": "978679b4-8360-4f9b-a1dd-d48032bfb40c",
   "metadata": {
    "tags": []
   },
   "outputs": [],
   "source": [
    "class pwskills :\n",
    "    def welcome_msg(self):\n",
    "        print(\"Welcome to pwskills\")"
   ]
  },
  {
   "cell_type": "code",
   "execution_count": 20,
   "id": "cd603e6c-06f3-467b-8488-f40d0b5faeef",
   "metadata": {
    "tags": []
   },
   "outputs": [],
   "source": [
    "abhay = pwskills()"
   ]
  },
  {
   "cell_type": "code",
   "execution_count": 21,
   "id": "d1192e6b-b2b0-428d-9b8e-52855e0e9082",
   "metadata": {
    "tags": []
   },
   "outputs": [
    {
     "name": "stdout",
     "output_type": "stream",
     "text": [
      "<class '__main__.pwskills'>\n"
     ]
    }
   ],
   "source": [
    "print(type(abhay))"
   ]
  },
  {
   "cell_type": "code",
   "execution_count": 22,
   "id": "b399831e-758d-4530-88a3-ff66e78ce661",
   "metadata": {
    "tags": []
   },
   "outputs": [
    {
     "name": "stdout",
     "output_type": "stream",
     "text": [
      "Welcome to pwskills\n"
     ]
    }
   ],
   "source": [
    "abhay.welcome_msg()"
   ]
  },
  {
   "cell_type": "code",
   "execution_count": 23,
   "id": "b8ac8eb8-8caf-4a70-9aaf-5d7f4c751585",
   "metadata": {
    "tags": []
   },
   "outputs": [],
   "source": [
    "class university:\n",
    "    def welcome_msg(self):\n",
    "        print(\"welcome to Assam university silchar\")"
   ]
  },
  {
   "cell_type": "code",
   "execution_count": 24,
   "id": "4f3c4cc5-edbb-4e40-992e-99842a2a156d",
   "metadata": {
    "tags": []
   },
   "outputs": [],
   "source": [
    "kuldeep = university()"
   ]
  },
  {
   "cell_type": "code",
   "execution_count": 25,
   "id": "3a8cc23f-5127-4db4-9393-e9ae4a6189aa",
   "metadata": {
    "tags": []
   },
   "outputs": [
    {
     "name": "stdout",
     "output_type": "stream",
     "text": [
      "<class '__main__.university'>\n"
     ]
    }
   ],
   "source": [
    "print(type(kuldeep))"
   ]
  },
  {
   "cell_type": "code",
   "execution_count": 26,
   "id": "15fcdaf6-1687-43c8-9bda-1faf9676dbaf",
   "metadata": {
    "tags": []
   },
   "outputs": [
    {
     "name": "stdout",
     "output_type": "stream",
     "text": [
      "welcome to Assam university silchar\n"
     ]
    }
   ],
   "source": [
    "kuldeep.welcome_msg()"
   ]
  },
  {
   "cell_type": "markdown",
   "id": "b32c9465-ca15-424a-8aa6-07f3629fe0e4",
   "metadata": {},
   "source": [
    "W.A.P to write full details of student"
   ]
  },
  {
   "cell_type": "code",
   "execution_count": 148,
   "id": "bdcb29b1-cc47-4f2e-8906-74fd092b6d30",
   "metadata": {
    "tags": []
   },
   "outputs": [],
   "source": [
    "class  pwskills1 :\n",
    "    def __init__(self, phone_number, email_id, student_id):\n",
    "        self.phone_number = phone_number\n",
    "        self.email_id = email_id\n",
    "        self.student_id = student_id\n",
    "        \n",
    "        def return_student_deetails(self):\n",
    "            return self.phone_number, self.email_id,self.student_id\n",
    "        \n",
    "    "
   ]
  },
  {
   "cell_type": "code",
   "execution_count": 160,
   "id": "b8b7dc7b-e989-4dd8-a2a1-c4cca0abb2d2",
   "metadata": {
    "tags": []
   },
   "outputs": [],
   "source": [
    "kuldeep = pwskills1(61396419,\"kuldeepm2349@gmail.com\",20220015633)"
   ]
  },
  {
   "cell_type": "code",
   "execution_count": 163,
   "id": "abae5ebb-6c37-45ea-8907-923ccde5952c",
   "metadata": {
    "tags": []
   },
   "outputs": [
    {
     "data": {
      "text/plain": [
       "61396419"
      ]
     },
     "execution_count": 163,
     "metadata": {},
     "output_type": "execute_result"
    }
   ],
   "source": [
    "kuldeep.phone_number"
   ]
  },
  {
   "cell_type": "code",
   "execution_count": 164,
   "id": "ee569549-8e26-405c-95d1-c51c8248c131",
   "metadata": {
    "tags": []
   },
   "outputs": [
    {
     "data": {
      "text/plain": [
       "'kuldeepm2349@gmail.com'"
      ]
     },
     "execution_count": 164,
     "metadata": {},
     "output_type": "execute_result"
    }
   ],
   "source": [
    "kuldeep.email_id"
   ]
  },
  {
   "cell_type": "code",
   "execution_count": 165,
   "id": "8140381d-2226-413a-baf8-df3fc989cab9",
   "metadata": {
    "tags": []
   },
   "outputs": [
    {
     "data": {
      "text/plain": [
       "20220015633"
      ]
     },
     "execution_count": 165,
     "metadata": {},
     "output_type": "execute_result"
    }
   ],
   "source": [
    "kuldeep.student_id"
   ]
  },
  {
   "cell_type": "code",
   "execution_count": 170,
   "id": "a2af5a3a-8de9-4394-98f3-09cd13e7798a",
   "metadata": {
    "tags": []
   },
   "outputs": [],
   "source": [
    "class pwskills2:\n",
    "    def __init__(self, phone_number, email_id,student_id):\n",
    "        self.phone_number1 = phone_number\n",
    "        self.email_id1 = email_id\n",
    "        self.student_id1 = student_id\n",
    "        \n",
    "        def return_student_details(self):\n",
    "            return self.student_id1,self.email_id1,self.phone_number1\n",
    "        \n",
    "        "
   ]
  },
  {
   "cell_type": "code",
   "execution_count": 171,
   "id": "ce2bdad9-9b16-4e42-8742-e9b2a0287e7a",
   "metadata": {
    "tags": []
   },
   "outputs": [],
   "source": [
    "kuldeep = pwskills2(9451858733,\"kuldeepmahi.2349@gmail.com\",909)"
   ]
  },
  {
   "cell_type": "code",
   "execution_count": 169,
   "id": "291df51d-8772-495a-befa-793fc627bc4b",
   "metadata": {
    "tags": []
   },
   "outputs": [
    {
     "data": {
      "text/plain": [
       "61396419"
      ]
     },
     "execution_count": 169,
     "metadata": {},
     "output_type": "execute_result"
    }
   ],
   "source": [
    "kuldeep.phone_number"
   ]
  },
  {
   "cell_type": "code",
   "execution_count": 135,
   "id": "b8b40f25-5982-4deb-9bba-8a309379d0eb",
   "metadata": {
    "tags": []
   },
   "outputs": [
    {
     "data": {
      "text/plain": [
       "'kuldeepm2349@gmail.com'"
      ]
     },
     "execution_count": 135,
     "metadata": {},
     "output_type": "execute_result"
    }
   ],
   "source": [
    "kuldeep.email_id"
   ]
  },
  {
   "cell_type": "code",
   "execution_count": 136,
   "id": "8b7faf51-5b98-4eb7-8fb8-d4c122b4ba66",
   "metadata": {
    "tags": []
   },
   "outputs": [
    {
     "data": {
      "text/plain": [
       "<__main__.pwskills1 at 0x24b9aff59d0>"
      ]
     },
     "execution_count": 136,
     "metadata": {},
     "output_type": "execute_result"
    }
   ],
   "source": [
    "kuldeep"
   ]
  },
  {
   "cell_type": "code",
   "execution_count": 152,
   "id": "b92f5ca0-874e-4e9b-97f7-627491511490",
   "metadata": {
    "tags": []
   },
   "outputs": [
    {
     "ename": "AttributeError",
     "evalue": "'pwskills1' object has no attribute 'return_student_deetails'",
     "output_type": "error",
     "traceback": [
      "\u001b[1;31m---------------------------------------------------------------------------\u001b[0m",
      "\u001b[1;31mAttributeError\u001b[0m                            Traceback (most recent call last)",
      "Cell \u001b[1;32mIn[152], line 1\u001b[0m\n\u001b[1;32m----> 1\u001b[0m kuldeep\u001b[38;5;241m.\u001b[39mreturn_student_deetails()\n",
      "\u001b[1;31mAttributeError\u001b[0m: 'pwskills1' object has no attribute 'return_student_deetails'"
     ]
    }
   ],
   "source": [
    "kuldeep.return_student_deetails()"
   ]
  },
  {
   "cell_type": "markdown",
   "id": "4f50fba6-fa14-4174-84a5-4f2679591f26",
   "metadata": {},
   "source": [
    "if don't write self..and i write another word(name-kuldeep,sudh etc.) still he work"
   ]
  },
  {
   "cell_type": "code",
   "execution_count": 141,
   "id": "82abf3bd-5c5b-4816-9cb0-a378b9f77e21",
   "metadata": {
    "tags": []
   },
   "outputs": [],
   "source": [
    "class pwskills3:\n",
    "    def __init__(kuldeep, phone_number, email_id,student_id):\n",
    "        kuldeep.phone_number1 = phone_number\n",
    "        kuldeep.email_id1 = email_id\n",
    "        kuldeep.student_id1 = student_id\n",
    "        \n",
    "        def return_student_details(self):\n",
    "            return kuldeep.student_id1,kuldeep.email_id1,kuldeep.phone_number1\n",
    "        \n",
    "        "
   ]
  },
  {
   "cell_type": "code",
   "execution_count": 143,
   "id": "ffb761ee-cd71-400d-8162-c6686a68c91d",
   "metadata": {
    "tags": []
   },
   "outputs": [],
   "source": [
    "kuldeep = pwskills3(6390450176,\"kuldeepmahi.2349@gmail.com\",908)"
   ]
  },
  {
   "cell_type": "code",
   "execution_count": 144,
   "id": "d330ed6c-766c-4273-9ff1-f633d21deb1e",
   "metadata": {
    "tags": []
   },
   "outputs": [
    {
     "data": {
      "text/plain": [
       "6390450176"
      ]
     },
     "execution_count": 144,
     "metadata": {},
     "output_type": "execute_result"
    }
   ],
   "source": [
    "kuldeep.phone_number1"
   ]
  },
  {
   "cell_type": "code",
   "execution_count": 147,
   "id": "6f27e814-e4da-46a7-9cfe-514340de7905",
   "metadata": {
    "tags": []
   },
   "outputs": [
    {
     "data": {
      "text/plain": [
       "'kuldeepmahi.2349@gmail.com'"
      ]
     },
     "execution_count": 147,
     "metadata": {},
     "output_type": "execute_result"
    }
   ],
   "source": [
    "kuldeep.email_id1"
   ]
  },
  {
   "cell_type": "code",
   "execution_count": null,
   "id": "911c14aa-bd0f-47cc-8fa9-277e4de00e7d",
   "metadata": {},
   "outputs": [],
   "source": []
  }
 ],
 "metadata": {
  "kernelspec": {
   "display_name": "Python 3 (ipykernel)",
   "language": "python",
   "name": "python3"
  },
  "language_info": {
   "codemirror_mode": {
    "name": "ipython",
    "version": 3
   },
   "file_extension": ".py",
   "mimetype": "text/x-python",
   "name": "python",
   "nbconvert_exporter": "python",
   "pygments_lexer": "ipython3",
   "version": "3.11.5"
  }
 },
 "nbformat": 4,
 "nbformat_minor": 5
}
